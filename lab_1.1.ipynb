{
 "cells": [
  {
   "cell_type": "raw",
   "metadata": {},
   "source": [
    "Для работы данного скрипта необходимо скачать файл odict.csv"
   ]
  },
  {
   "cell_type": "code",
   "execution_count": 1,
   "metadata": {},
   "outputs": [],
   "source": [
    "import re"
   ]
  },
  {
   "cell_type": "code",
   "execution_count": 2,
   "metadata": {},
   "outputs": [],
   "source": [
    "filename = './data/odict.csv'\n",
    "\n",
    "with open(filename, 'r', encoding='utf-8') as fp:\n",
    "    data = fp.read().splitlines()"
   ]
  },
  {
   "cell_type": "code",
   "execution_count": 3,
   "metadata": {},
   "outputs": [],
   "source": [
    "ALL_FORMS = {}\n",
    "\n",
    "for line in data:\n",
    "    line_split = line.split(',')\n",
    "    norm, ps, forms = line_split[0], line_split[1], set(line_split[2:])\n",
    "    for form in forms:\n",
    "        ALL_FORMS[form] = (norm, ps)\n",
    "del data"
   ]
  },
  {
   "cell_type": "code",
   "execution_count": 4,
   "metadata": {},
   "outputs": [],
   "source": [
    "def get_text_information(text: str):\n",
    "    res = {}\n",
    "    for word in (v.lower() for v in re.findall(r\"('?[а-яА-ЯёЁ][а-яА-ЯёЁ]*(?:-[а-яА-ЯёЁ]+)*'?)\", text)):\n",
    "        norm, ps = ALL_FORMS.get(word, (None, None))\n",
    "        res.setdefault(norm, [ps, 0])[1] += 1\n",
    "    return res"
   ]
  },
  {
   "cell_type": "code",
   "execution_count": 5,
   "metadata": {},
   "outputs": [
    {
     "data": {
      "text/plain": [
       "{'всякий': ['мс-п', 1],\n",
       " 'записать': ['св', 1],\n",
       " 'речь': ['ж', 1],\n",
       " 'литературный': ['п', 1],\n",
       " 'произведение': ['с', 2]}"
      ]
     },
     "execution_count": 5,
     "metadata": {},
     "output_type": "execute_result"
    }
   ],
   "source": [
    "text_info = get_text_information('Всякая записанная речь (литературное произведение (произведения))')\n",
    "text_info"
   ]
  },
  {
   "cell_type": "code",
   "execution_count": null,
   "metadata": {},
   "outputs": [],
   "source": []
  }
 ],
 "metadata": {
  "kernelspec": {
   "display_name": "Python 3",
   "language": "python",
   "name": "python3"
  },
  "language_info": {
   "codemirror_mode": {
    "name": "ipython",
    "version": 3
   },
   "file_extension": ".py",
   "mimetype": "text/x-python",
   "name": "python",
   "nbconvert_exporter": "python",
   "pygments_lexer": "ipython3",
   "version": "3.7.3"
  }
 },
 "nbformat": 4,
 "nbformat_minor": 2
}
