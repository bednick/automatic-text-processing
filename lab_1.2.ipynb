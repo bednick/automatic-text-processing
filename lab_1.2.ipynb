{
 "cells": [
  {
   "cell_type": "code",
   "execution_count": null,
   "metadata": {},
   "outputs": [],
   "source": [
    "!pip install DAWG-Python"
   ]
  },
  {
   "cell_type": "code",
   "execution_count": null,
   "metadata": {},
   "outputs": [],
   "source": [
    "import os\n",
    "import re\n",
    "import json\n",
    "\n",
    "from typing import List, Tuple, Dict\n",
    "from bedarev_analyzer import MorphAnalyzer"
   ]
  },
  {
   "cell_type": "code",
   "execution_count": null,
   "metadata": {},
   "outputs": [],
   "source": [
    "morph = MorphAnalyzer()\n",
    "\n",
    "def get_text_info(text: str) -> Dict[str, Tuple[str, int]]:\n",
    "    res = {}\n",
    "    for word in (v.lower() for v in re.findall(r\"('?[а-яА-ЯёЁ][а-яА-ЯёЁ]*(?:-[а-яА-ЯёЁ]+)*'?)\", text)):  #  r'\\w+'\n",
    "        parse = morph.parse(word)[0]\n",
    "        res.setdefault(parse.normal_form, [parse.tag, 0])[1] += 1\n",
    "    return res\n",
    "\n",
    "\n",
    "def get_statistics(info: Dict[str, Tuple[str, int]]):\n",
    "    not_found = [(name, count) for name, (ps, count) in info.items() if ps is None]\n",
    "    correct_found = [(name, count) for name, (ps, count) in info.items() if ps is not None]\n",
    "    return {\n",
    "        'all_count': sum(count for name, (ps, count) in info.items()),\n",
    "        'found_count': sum(count for name, count in correct_found),\n",
    "        'not_found_count': sum(count for name, count in not_found),\n",
    "    }"
   ]
  },
  {
   "cell_type": "code",
   "execution_count": null,
   "metadata": {},
   "outputs": [],
   "source": [
    "text_info = get_text_info('стекла с крыши')\n",
    "print(text_info)\n",
    "print(get_statistics(text_info))"
   ]
  },
  {
   "cell_type": "code",
   "execution_count": null,
   "metadata": {},
   "outputs": [],
   "source": []
  }
 ],
 "metadata": {
  "kernelspec": {
   "display_name": "Python 3",
   "language": "python",
   "name": "python3"
  },
  "language_info": {
   "codemirror_mode": {
    "name": "ipython",
    "version": 3
   },
   "file_extension": ".py",
   "mimetype": "text/x-python",
   "name": "python",
   "nbconvert_exporter": "python",
   "pygments_lexer": "ipython3",
   "version": "3.7.3"
  }
 },
 "nbformat": 4,
 "nbformat_minor": 2
}
