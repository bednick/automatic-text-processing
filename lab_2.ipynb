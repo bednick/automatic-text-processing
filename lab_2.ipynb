{
 "cells": [
  {
   "cell_type": "code",
   "execution_count": null,
   "metadata": {},
   "outputs": [],
   "source": [
    "import re\n",
    "from collections import Counter\n",
    "from typing import List, Tuple\n",
    "\n",
    "from pymorphy2 import MorphAnalyzer\n",
    "\n",
    "\n",
    "class Concordances:\n",
    "    morph = MorphAnalyzer()\n",
    "\n",
    "    def __init__(self, normal_text: List[List[str]]):\n",
    "        self.normal_text = normal_text\n",
    "\n",
    "    @classmethod\n",
    "    def from_text(cls, text: str) -> 'Concordances':\n",
    "        normal_text = []\n",
    "        for line in text.split('\\n'):\n",
    "            normal_line = cls.normalize(line)\n",
    "            if normal_line:\n",
    "                normal_text.append(normal_line)\n",
    "        return Concordances(normal_text)\n",
    "\n",
    "    @classmethod\n",
    "    def from_file(cls, fp) -> 'Concordances':\n",
    "        normal_text = []\n",
    "        line = fp.readline()\n",
    "        while line:\n",
    "            normal_line = cls.normalize(line)\n",
    "            if normal_line:\n",
    "                normal_text.append(normal_line)\n",
    "            line = fp.readline()\n",
    "        return Concordances(normal_text)\n",
    "\n",
    "    @classmethod\n",
    "    def normalize(cls, line: str) -> List[str]:\n",
    "        return [cls.morph.parse(word)[0].normal_form for word in\n",
    "                (v.lower() for v in re.findall(r\"('?[а-яА-ЯёЁ][а-яА-ЯёЁ]*(?:-[а-яА-ЯёЁ]+)*'?)\", line))]\n",
    "\n",
    "    @staticmethod\n",
    "    def check(line_words: List[str], index: int, phrase_words: List[str]) -> bool:\n",
    "        return all(line_words[min(len(line_words) - 1, index + i)] == ch for i, ch in enumerate(phrase_words))\n",
    "\n",
    "    def find(self, phrase: str, *, window: int = 2, min_frequency: int = 1) -> List[Tuple[str, str, int]]:\n",
    "        phrase_words = self.normalize(phrase)\n",
    "\n",
    "        left = []\n",
    "        right = []\n",
    "        for line_words in self.normal_text:\n",
    "            for i in range(len(line_words)):\n",
    "                if self.check(line_words, i, phrase_words):\n",
    "                    left.append(' '.join(line_words[max(0, i - window):i]))\n",
    "                    right.append(' '.join(line_words[i + len(phrase_words):i + len(phrase_words) + window]))\n",
    "\n",
    "        left_count = [('l', nane, count) for nane, count in Counter(left).most_common() if count >= min_frequency]\n",
    "        right_count = [('r', nane, count) for nane, count in Counter(right).most_common() if count >= min_frequency]\n",
    "        return left_count + right_count"
   ]
  },
  {
   "cell_type": "markdown",
   "metadata": {},
   "source": [
    "# Usage example"
   ]
  },
  {
   "cell_type": "code",
   "execution_count": null,
   "metadata": {},
   "outputs": [],
   "source": [
    "# ~ 40 s\n",
    "with open(\"./data/example_text.txt\", 'r', encoding='utf8') as fp:\n",
    "    concordances = Concordances.from_file(fp)"
   ]
  },
  {
   "cell_type": "code",
   "execution_count": null,
   "metadata": {},
   "outputs": [],
   "source": [
    "%%time\n",
    "concordances.find('в', window=2, min_frequency=1)"
   ]
  },
  {
   "cell_type": "code",
   "execution_count": null,
   "metadata": {},
   "outputs": [],
   "source": []
  }
 ],
 "metadata": {
  "kernelspec": {
   "display_name": "Python 3",
   "language": "python",
   "name": "python3"
  },
  "language_info": {
   "codemirror_mode": {
    "name": "ipython",
    "version": 3
   },
   "file_extension": ".py",
   "mimetype": "text/x-python",
   "name": "python",
   "nbconvert_exporter": "python",
   "pygments_lexer": "ipython3",
   "version": "3.7.3"
  }
 },
 "nbformat": 4,
 "nbformat_minor": 2
}
