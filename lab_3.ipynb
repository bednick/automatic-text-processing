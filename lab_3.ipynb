{
 "cells": [
  {
   "cell_type": "code",
   "execution_count": 1,
   "metadata": {},
   "outputs": [],
   "source": [
    "import re\n",
    "from collections import Counter\n",
    "from typing import List, Tuple\n",
    "\n",
    "from pymorphy2 import MorphAnalyzer"
   ]
  },
  {
   "cell_type": "code",
   "execution_count": 2,
   "metadata": {},
   "outputs": [],
   "source": [
    "morph = MorphAnalyzer()\n",
    "\n",
    "\n",
    "def normalize(line: str) -> List[str]:\n",
    "    return [morph.parse(word)[0].normal_form for word in (v.lower() for v in re.findall(r\"('?[а-яА-ЯёЁ][а-яА-ЯёЁ]*(?:-[а-яА-ЯёЁ]+)*'?)\", line))]\n",
    "\n",
    "def get_n_gramm(words: list, n: int = 2): \n",
    "    return [tuple(words[i-n+1:i+1]) for i in range(n - 1, len(words))]\n",
    "\n",
    "def get_new_gramms(line_words: List[str], n: str, gramms: dict) -> bool:\n",
    "    new_gramms = {}\n",
    "    for i in range(0, len(line_words) - n + 1):\n",
    "        key = tuple(line_words[i:i+n-1])\n",
    "        if key in gramms:\n",
    "            new_key = key + (line_words[i+n-1],)\n",
    "            new_gramms.setdefault(new_key, 0)\n",
    "            new_gramms[new_key] += 1\n",
    "    \n",
    "    return new_gramms"
   ]
  },
  {
   "cell_type": "code",
   "execution_count": 3,
   "metadata": {},
   "outputs": [],
   "source": [
    "with open(\"./data/example_text.txt\", 'r', encoding='utf8') as fp:\n",
    "    text = fp.read()"
   ]
  },
  {
   "cell_type": "code",
   "execution_count": 4,
   "metadata": {},
   "outputs": [],
   "source": [
    "normal_text = [normalize(line) for line in text.split('\\n')]\n",
    "\n",
    "all_2_gramm = []\n",
    "for normal_line in normal_text:\n",
    "    if normal_line:\n",
    "        gramms = get_n_gramm(normal_line, 2)\n",
    "        if gramms:\n",
    "            all_2_gramm.extend(gramms)\n",
    "dict_2_gramms = {name: count for name, count in Counter(all_2_gramm).items() if count > 1}\n",
    "\n",
    "gramm_found = [True]*len(normal_text)\n",
    "dicts_n_gramms = [{}, {}, dict_2_gramms]\n",
    "for n in range(3, max([len(normal_line) for normal_line in normal_text])//10 + 1):\n",
    "    last_gramms = dicts_n_gramms[n-1]\n",
    "    dict_n_gramms = Counter()\n",
    "    for i, normal_line in enumerate(normal_text):\n",
    "        if not gramm_found[i]:\n",
    "            continue\n",
    "        found = False\n",
    "        new_gramms = get_new_gramms(normal_line, n, last_gramms)\n",
    "        if new_gramms:\n",
    "            found = True\n",
    "            dict_n_gramms += Counter(new_gramms)\n",
    "        gramm_found[i] = found\n",
    "    dict_n_gramms = {name: count for name, count in dict_n_gramms.items() if count > 1}\n",
    "    if not dict_n_gramms:\n",
    "        break\n",
    "    dicts_n_gramms.append(dict_n_gramms)\n",
    "\n",
    "result = Counter()\n",
    "for i in dicts_n_gramms:\n",
    "    result += Counter(i)\n",
    "result = Counter({' '.join(key): value for key, value in result.items()})"
   ]
  },
  {
   "cell_type": "code",
   "execution_count": 5,
   "metadata": {},
   "outputs": [
    {
     "data": {
      "text/plain": [
       "852878"
      ]
     },
     "execution_count": 5,
     "metadata": {},
     "output_type": "execute_result"
    }
   ],
   "source": [
    "len(result)"
   ]
  },
  {
   "cell_type": "code",
   "execution_count": null,
   "metadata": {},
   "outputs": [],
   "source": [
    "len([n for n, v in result.items() if v > 3])"
   ]
  },
  {
   "cell_type": "code",
   "execution_count": null,
   "metadata": {},
   "outputs": [],
   "source": [
    "# sorted([n for n, v in result.items() if v == 3], key=lambda x: len(x), reverse=True)"
   ]
  },
  {
   "cell_type": "code",
   "execution_count": null,
   "metadata": {},
   "outputs": [],
   "source": [
    "sorted(sorted([n for n, v in result.items()]), key=lambda x: len(x), reverse=True)"
   ]
  },
  {
   "cell_type": "code",
   "execution_count": null,
   "metadata": {},
   "outputs": [],
   "source": []
  }
 ],
 "metadata": {
  "kernelspec": {
   "display_name": "Python 3",
   "language": "python",
   "name": "python3"
  },
  "language_info": {
   "codemirror_mode": {
    "name": "ipython",
    "version": 3
   },
   "file_extension": ".py",
   "mimetype": "text/x-python",
   "name": "python",
   "nbconvert_exporter": "python",
   "pygments_lexer": "ipython3",
   "version": "3.7.3"
  }
 },
 "nbformat": 4,
 "nbformat_minor": 2
}
