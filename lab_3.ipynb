{
 "cells": [
  {
   "cell_type": "code",
   "execution_count": 1,
   "metadata": {},
   "outputs": [],
   "source": [
    "import re\n",
    "from collections import Counter\n",
    "from typing import List, Tuple\n",
    "\n",
    "from pymorphy2 import MorphAnalyzer\n",
    "# from bedarev_analyzer import MorphAnalyzer"
   ]
  },
  {
   "cell_type": "code",
   "execution_count": 2,
   "metadata": {},
   "outputs": [],
   "source": [
    "with open(\"./data/clear_text.txt\", 'r', encoding='utf8') as fp:\n",
    "    text = fp.read()"
   ]
  },
  {
   "cell_type": "code",
   "execution_count": 2,
   "metadata": {},
   "outputs": [],
   "source": [
    "class NGrammer():\n",
    "    morph = MorphAnalyzer()\n",
    "    DELIMITERS = (',', '.', '!', '?', ':', ';')\n",
    "    \n",
    "    def __init__(self, text, min_count = 2):\n",
    "        for delimiter in self.DELIMITERS:\n",
    "            text = text.replace(delimiter, '\\n')\n",
    "        normal_text = [l for l in (self.normalize(line) for line in text.split('\\n')) if l]\n",
    "        self.min_count = max(2, min_count)\n",
    "        self.dicts_all_n_gramms = []\n",
    "\n",
    "        for n in range(1, max([len(l) for l in normal_text]) + 1):\n",
    "            all_n_gramms = []\n",
    "            for normal_line in normal_text:\n",
    "                if len(normal_line) < n:\n",
    "                    continue\n",
    "                n_gramms = self.get_n_gramm(normal_line, n)\n",
    "                if n_gramms:\n",
    "                        all_n_gramms.extend(n_gramms)\n",
    "            dict_all_n_gramms = {name: count for name, count in Counter(all_n_gramms).items() if name and count >= self.min_count}\n",
    "            if not dict_all_n_gramms:\n",
    "                break\n",
    "            self.dicts_all_n_gramms.append(dict_all_n_gramms)\n",
    "\n",
    "    @classmethod\n",
    "    def normalize(cls, line: str) -> List[str]:\n",
    "        return [w for w in [cls.morph.parse(word)[0].normal_form for word in\n",
    "                (v.lower() for v in re.findall(r\"('?[а-яА-ЯёЁ][а-яА-ЯёЁ]*(?:-[а-яА-ЯёЁ]+)*'?)\", line))] if w and w != ' ']\n",
    "\n",
    "    @staticmethod\n",
    "    def get_n_gramm(words: list, n: int = 2): \n",
    "        return [tuple(words[i-n+1:i+1]) for i in range(n - 1, len(words))]\n",
    "\n",
    "    def max_n(self):\n",
    "        return len(self.dicts_all_n_gramms) - 1\n",
    "\n",
    "    def gramms(self, n=None):\n",
    "        result = Counter()\n",
    "        if n is None:\n",
    "            for i in self.dicts_all_n_gramms[1:]:\n",
    "                result += Counter(i)\n",
    "        else:\n",
    "            result = Counter(self.dicts_all_n_gramms[n-1])\n",
    "        result = Counter({' '.join(key): value for key, value in result.items()})\n",
    "        return result"
   ]
  },
  {
   "cell_type": "code",
   "execution_count": 4,
   "metadata": {},
   "outputs": [
    {
     "name": "stdout",
     "output_type": "stream",
     "text": [
      "Wall time: 1min 44s\n"
     ]
    }
   ],
   "source": [
    "%%time\n",
    "grammer = NGrammer(text)"
   ]
  },
  {
   "cell_type": "code",
   "execution_count": 5,
   "metadata": {},
   "outputs": [
    {
     "data": {
      "text/plain": [
       "264860"
      ]
     },
     "execution_count": 5,
     "metadata": {},
     "output_type": "execute_result"
    }
   ],
   "source": [
    "len(grammer.gramms())"
   ]
  },
  {
   "cell_type": "code",
   "execution_count": 6,
   "metadata": {},
   "outputs": [
    {
     "name": "stdout",
     "output_type": "stream",
     "text": [
      "55089\n"
     ]
    },
    {
     "data": {
      "text/plain": [
       "[('в работа', 871),\n",
       " ('в год', 757),\n",
       " ('на основа', 485),\n",
       " ('один из', 439),\n",
       " ('а также', 423)]"
      ]
     },
     "execution_count": 6,
     "metadata": {},
     "output_type": "execute_result"
    }
   ],
   "source": [
    "print(len(grammer.gramms(2)))\n",
    "grammer.gramms(2).most_common(5)"
   ]
  },
  {
   "cell_type": "code",
   "execution_count": 7,
   "metadata": {},
   "outputs": [
    {
     "name": "stdout",
     "output_type": "stream",
     "text": [
      "44980\n"
     ]
    },
    {
     "data": {
      "text/plain": [
       "[('в тот число', 175),\n",
       " ('в дать работа', 161),\n",
       " ('в настоящее время', 157),\n",
       " ('в связь с', 151),\n",
       " ('по сравнение с', 148)]"
      ]
     },
     "execution_count": 7,
     "metadata": {},
     "output_type": "execute_result"
    }
   ],
   "source": [
    "print(len(grammer.gramms(3)))\n",
    "grammer.gramms(3).most_common(5)"
   ]
  },
  {
   "cell_type": "code",
   "execution_count": 8,
   "metadata": {},
   "outputs": [
    {
     "data": {
      "text/plain": [
       "[('в то же время', 63),\n",
       " ('в связь с это', 56),\n",
       " ('в то время как', 53),\n",
       " ('один и тот же', 37),\n",
       " ('в тот число и', 31)]"
      ]
     },
     "execution_count": 8,
     "metadata": {},
     "output_type": "execute_result"
    }
   ],
   "source": [
    "grammer.gramms(4).most_common(5)"
   ]
  },
  {
   "cell_type": "code",
   "execution_count": 9,
   "metadata": {},
   "outputs": [
    {
     "name": "stdout",
     "output_type": "stream",
     "text": [
      "40\n"
     ]
    },
    {
     "data": {
      "text/plain": [
       "Counter({'в работа быть сформулировать модель электрический инициирование пентаэритриттетранитрат тэн в канал детонатор и быть провести численный анализ развитие детонация для разный плотность век и для разный энергия инициирование на основа моделирование распространение ударный волна в цилиндрический канал по двумерный газодинамический': 2,\n",
       "         'работа быть сформулировать модель электрический инициирование пентаэритриттетранитрат тэн в канал детонатор и быть провести численный анализ развитие детонация для разный плотность век и для разный энергия инициирование на основа моделирование распространение ударный волна в цилиндрический канал по двумерный газодинамический программа': 2})"
      ]
     },
     "execution_count": 9,
     "metadata": {},
     "output_type": "execute_result"
    }
   ],
   "source": [
    "print(grammer.max_n())\n",
    "grammer.gramms(grammer.max_n())"
   ]
  },
  {
   "cell_type": "code",
   "execution_count": null,
   "metadata": {},
   "outputs": [],
   "source": []
  }
 ],
 "metadata": {
  "kernelspec": {
   "display_name": "Python 3",
   "language": "python",
   "name": "python3"
  },
  "language_info": {
   "codemirror_mode": {
    "name": "ipython",
    "version": 3
   },
   "file_extension": ".py",
   "mimetype": "text/x-python",
   "name": "python",
   "nbconvert_exporter": "python",
   "pygments_lexer": "ipython3",
   "version": "3.7.3"
  }
 },
 "nbformat": 4,
 "nbformat_minor": 2
}
