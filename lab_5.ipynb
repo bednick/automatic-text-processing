{
 "cells": [
  {
   "cell_type": "code",
   "execution_count": 1,
   "metadata": {},
   "outputs": [],
   "source": [
    "import logging\n",
    "import sys\n",
    "\n",
    "logging.basicConfig(level=logging.DEBUG, stream=sys.stdout)"
   ]
  },
  {
   "cell_type": "code",
   "execution_count": 2,
   "metadata": {},
   "outputs": [
    {
     "name": "stdout",
     "output_type": "stream",
     "text": [
      "INFO:pymorphy2.opencorpora_dict.wrapper:format: 2.4, revision: 393442, updated: 2015-01-17T16:03:56.586168\n"
     ]
    }
   ],
   "source": [
    "from bedarev_semantic.base import *\n",
    "\n",
    "\n",
    "information = [\n",
    "    #\n",
    "    Synonyms(\n",
    "        'ДолжностноеЛицо',\n",
    "        {'рабочий', 'сотрудник', 'государственный служащий'}\n",
    "    ),\n",
    "    Synonyms(\n",
    "        'РФ',\n",
    "        {'рф', 'россия', 'российский федерация'}\n",
    "    ),\n",
    "    Synonyms(\n",
    "        'Семья',\n",
    "        {'семья', 'ячейка общество'}\n",
    "    ),\n",
    "    Synonyms(\n",
    "        'ЦБ',\n",
    "        {'цб', 'центральный банк', 'отечественный цб'}\n",
    "    ),\n",
    "    Synonyms(\n",
    "        'ВВП',\n",
    "        {'ввп', 'валовый продукт'}\n",
    "    ),\n",
    "    Synonyms(\n",
    "        'ОбразованныйЧеловек',\n",
    "        {'учёный', 'эксперт', 'академик'}\n",
    "    ),\n",
    "    GeneralPrivate(\n",
    "        'Государство',\n",
    "        {\n",
    "            Synonyms('РФ'),\n",
    "            'cccp',\n",
    "            'китай',\n",
    "            'сша'\n",
    "        },\n",
    "        values={'государство', 'страна', 'федерация'}\n",
    "    ),\n",
    "    GeneralPrivate(\n",
    "        'ДенежныеСредства',\n",
    "        {\n",
    "            'рубль',\n",
    "            'доллар',\n",
    "        },\n",
    "        {'деньга', 'средства', 'криптовалюта', 'валюта'}\n",
    "    ),\n",
    "    #\n",
    "    GeneralPrivate(\n",
    "        'Числительные',\n",
    "        {\n",
    "            'нуль',\n",
    "            'три',\n",
    "            'два',\n",
    "            'миллион',\n",
    "            'миллиардмиллиард',\n",
    "        },\n",
    "        {'число', 'количество'}\n",
    "    ),\n",
    "    # транзакции -> приход и расход\n",
    "    GeneralPrivate(\n",
    "        'Субъект',\n",
    "        {\n",
    "            'округ',\n",
    "            'страна',\n",
    "        },\n",
    "        {'субъект', }\n",
    "    ),\n",
    "    PartWhole(\n",
    "        'ПланетнаяСистема',\n",
    "        {\n",
    "            GeneralPrivate('Звезда', {'солнце'}, {'звезда'}),\n",
    "            GeneralPrivate('Спутник', {'луна'}, {'спутник'}),\n",
    "            GeneralPrivate('Планета', {'земля'}, {'планета'})\n",
    "        },\n",
    "        {'планетный система', }\n",
    "    ),\n",
    "    GeneralPrivate(\n",
    "        'НаучнаяОбласть',\n",
    "        {\n",
    "            'математика',\n",
    "            'физика',\n",
    "            'информационные технологии',\n",
    "        },\n",
    "        {'наука'}\n",
    "    ),\n",
    "    Synonyms(\n",
    "        'ПротопланетныйДиск',\n",
    "        {'протопланетный диск', 'протопланетный кольцо'}\n",
    "    ),\n",
    "    Synonyms(\n",
    "        'Затрата',\n",
    "        {'затрата', 'издержка'}\n",
    "    ),\n",
    "    Synonyms(\n",
    "        'Финансирование',\n",
    "        {'кредит', 'кредитование',\n",
    "         'вклад', 'финансирование', 'инвестиция'}\n",
    "    ),\n",
    "    Synonyms(\n",
    "        'Налогообложение',\n",
    "        {'налог', 'налоговый нагрузка'}\n",
    "    ),\n",
    "    Synonyms(\n",
    "        'Регулирование',\n",
    "        {'регулирование', 'управление'}\n",
    "    ),\n",
    "    Synonyms(\n",
    "        'Банк',\n",
    "        {'банк', 'банковский система'}\n",
    "    ),\n",
    "    PartWhole(\n",
    "        'Правительство',\n",
    "        {\n",
    "            'мгд',\n",
    "            'институт'\n",
    "        },\n",
    "        {'правительство', 'власть'}\n",
    "    ),\n",
    "    GeneralPrivate(\n",
    "        'ПолезноеИскопаемое',\n",
    "        {\n",
    "            'газ',\n",
    "            'нефть',\n",
    "        },\n",
    "        {'полезный ископаемое', 'ресурс'}\n",
    "    ),\n",
    "    PartWhole(\n",
    "        'ВременнойОтрезок',\n",
    "        {\n",
    "            'x годах',\n",
    "            Synonyms(\n",
    "                'НастоящееВремя',\n",
    "                {'последний время', 'сегодня', 'сейчас', 'настоящее время'}\n",
    "            ),\n",
    "        },\n",
    "    ),\n",
    "    Synonyms(\n",
    "        'Аглоритм',\n",
    "        {'алгоритм', 'технология', 'схема', 'подход'}\n",
    "    ),\n",
    "]\n",
    "\n",
    "semantic_vocabulary = SemanticVocabulary(information)"
   ]
  },
  {
   "cell_type": "code",
   "execution_count": 3,
   "metadata": {},
   "outputs": [
    {
     "name": "stdout",
     "output_type": "stream",
     "text": [
      "INFO:pymorphy2.opencorpora_dict.wrapper:Loading dictionaries from D:\\ProgramData\\Anaconda3\\lib\\site-packages\\pymorphy2_dicts\\data\n",
      "INFO:pymorphy2.opencorpora_dict.wrapper:format: 2.4, revision: 393442, updated: 2015-01-17T16:03:56.586168\n"
     ]
    },
    {
     "data": {
      "text/plain": [
       "766091"
      ]
     },
     "execution_count": 3,
     "metadata": {},
     "output_type": "execute_result"
    }
   ],
   "source": [
    "import json\n",
    "\n",
    "from bedarev_semantic.weighing import WeighingAlgorithm, TopDownAlgorithm\n",
    "from bedarev_semantic.search_engine import SearchEngine\n",
    "\n",
    "with open(\"./data/clear_text.txt\", 'r', encoding='utf8') as fp:\n",
    "    text_lines = fp.read().split('\\n')\n",
    "# with open('./data/all_forms.json', 'r', encoding='utf8') as fp:\n",
    "#     all_forms = set(json.load(fp))\n",
    "\n",
    "search_engine = SearchEngine(corpus=text_lines, all_forms=None, semantic_vocabulary=semantic_vocabulary)\n",
    "len(search_engine.all_forms)"
   ]
  },
  {
   "cell_type": "code",
   "execution_count": 4,
   "metadata": {},
   "outputs": [],
   "source": [
    "from typing import Set\n",
    "\n",
    "def gener(phrase: str) -> Set[GeneralPrivate]:\n",
    "    result = set()\n",
    "    \n",
    "    morhp_obj = semantic_vocabulary.search_morph_object(phrase)\n",
    "    if not morhp_obj:\n",
    "        return result\n",
    "    for parent in morhp_obj.parents:\n",
    "        if isinstance(parent, GeneralPrivate):\n",
    "            result.add(parent)\n",
    "    return result"
   ]
  },
  {
   "cell_type": "code",
   "execution_count": 5,
   "metadata": {},
   "outputs": [
    {
     "name": "stdout",
     "output_type": "stream",
     "text": [
      "{<GeneralPrivate: \"НаучнаяОбласть\">\n",
      "}\n",
      "INFO:bedarev_semantic:weights: {(1, 'наука')}\n",
      "INFO:bedarev_semantic:vector_request:   (0, 348014)\t1\n"
     ]
    },
    {
     "data": {
      "text/plain": [
       "[(4109,\n",
       "  6,\n",
       "  {'наука': [95, 126, 144, 165, 185, 226]},\n",
       "  'Хотя, разумеется, роль ретроспективного исследования научных достижений в разработке философии науки очень велика. «Философия науки без истории науки пуста; история науки без философии науки слепа», – пишет выдающийся философ науки И. Лакатос [14]. Создатель теории научных революций Т. Кун обращался к достижениям Птолемея, Коперника, Ньютона, Лавуазье, Дальтона. Концепция исследовательских программ И. Лакатоса строилась на основе анализа работ Бора и Эйнштейна, опыта становления квантовой механики и теории относительности.'),\n",
       " (3445,\n",
       "  5,\n",
       "  {'наука': [11, 29, 50, 70, 111]},\n",
       "  '«Философия науки без истории науки пуста; история науки без философии науки слепа», – пишет выдающийся философ науки И. Лакатос. Создатель теории научных революций Т. Кун обращался к достижениям Птолемея, Коперника, Ньютона, Лавуазье, Дальтона [15]. Концепция исследовательских программ И. Лакатоса строилась на основе анализа работ Бора и Эйнштейна, опыта становления квантовой механики и теории относительности. Многие принципиальные положения структурно-логического анализа научного знания, выдвинутого В.')]"
      ]
     },
     "execution_count": 5,
     "metadata": {},
     "output_type": "execute_result"
    }
   ],
   "source": [
    "print(gener('физика'))\n",
    "search_engine.map(gener('физика'))[:2]"
   ]
  },
  {
   "cell_type": "code",
   "execution_count": 6,
   "metadata": {},
   "outputs": [
    {
     "name": "stdout",
     "output_type": "stream",
     "text": [
      "{<GeneralPrivate: \"ПолезноеИскопаемое\">\n",
      "}\n",
      "INFO:bedarev_semantic:weights: {(1, 'полезный_ископаемое'), (1, 'ресурс')}\n",
      "INFO:bedarev_semantic:vector_request:   (0, 464076)\t1\n",
      "  (0, 558555)\t1\n"
     ]
    },
    {
     "data": {
      "text/plain": [
       "[(3855,\n",
       "  4,\n",
       "  {'ресурс': [128, 190, 298, 518]},\n",
       "  'При этом экономисты отмечают очевидное «несходство социальной политики, которую узкий круг обладателей имущественных и властных ресурсов осуществляет в отношении большинства, лишенного этих ресурсов, с той, которая строится на основе репрезентации интересов и предпочтений большинства, обладающего ресурсами» (Якобсон, 2016, с. 296–297)с. 296–297). На возможность более низкой оценки полезности общественных средств для людей, принимающих решения о направлениях государственных расходов, по отношению к их собственным ресурсам указывают многие факты14.'),\n",
       " (4146,\n",
       "  4,\n",
       "  {'ресурс': [40, 332, 497, 514]},\n",
       "  'Подведомственные Министерству природных ресурсов и экологии Российской Федерации федеральные государственные бюджетные учреждения осуществляют организацию функционирования и охрану государственных природных заповедников, национальных парков и федеральных заказников [4].Кроме того, сегодня немаловажную роль в управлении природными ресурсами и охране окружающей среды играют регионы, поскольку субъектам Российской Федерации почти полностью переданы полномочия Российской Федерации в сфере лесных ресурсов, водных ресурсов, охоты.')]"
      ]
     },
     "execution_count": 6,
     "metadata": {},
     "output_type": "execute_result"
    }
   ],
   "source": [
    "print(gener('нефть'))\n",
    "search_engine.map(gener('нефть'))[:2]"
   ]
  },
  {
   "cell_type": "code",
   "execution_count": 7,
   "metadata": {},
   "outputs": [
    {
     "data": {
      "text/plain": [
       "['полезный_ископаемое', 'ресурс']"
      ]
     },
     "execution_count": 7,
     "metadata": {},
     "output_type": "execute_result"
    }
   ],
   "source": [
    "[value.normal_form for value in list(gener('нефть'))[0].values()]"
   ]
  },
  {
   "cell_type": "code",
   "execution_count": 8,
   "metadata": {},
   "outputs": [
    {
     "name": "stdout",
     "output_type": "stream",
     "text": [
      "{<GeneralPrivate: \"НаучнаяОбласть\">\n",
      ", <GeneralPrivate: \"ПолезноеИскопаемое\">\n",
      "}\n",
      "INFO:bedarev_semantic:weights: {(1, 'полезный_ископаемое'), (1, 'наука'), (1, 'ресурс')}\n",
      "INFO:bedarev_semantic:vector_request:   (0, 348014)\t1\n",
      "  (0, 464076)\t1\n",
      "  (0, 558555)\t1\n"
     ]
    },
    {
     "data": {
      "text/plain": [
       "[(4109,\n",
       "  6,\n",
       "  {'наука': [95, 126, 144, 165, 185, 226]},\n",
       "  'Хотя, разумеется, роль ретроспективного исследования научных достижений в разработке философии науки очень велика. «Философия науки без истории науки пуста; история науки без философии науки слепа», – пишет выдающийся философ науки И. Лакатос [14]. Создатель теории научных революций Т. Кун обращался к достижениям Птолемея, Коперника, Ньютона, Лавуазье, Дальтона. Концепция исследовательских программ И. Лакатоса строилась на основе анализа работ Бора и Эйнштейна, опыта становления квантовой механики и теории относительности.')]"
      ]
     },
     "execution_count": 8,
     "metadata": {},
     "output_type": "execute_result"
    }
   ],
   "source": [
    "print(gener('физика') | gener('нефть'))\n",
    "search_engine.map(gener('физика') | gener('нефть'))[:1]"
   ]
  },
  {
   "cell_type": "code",
   "execution_count": 9,
   "metadata": {},
   "outputs": [],
   "source": [
    "# search_engine.normalize_lines_with_grams[4720]"
   ]
  },
  {
   "cell_type": "code",
   "execution_count": null,
   "metadata": {},
   "outputs": [],
   "source": []
  }
 ],
 "metadata": {
  "kernelspec": {
   "display_name": "Python 3",
   "language": "python",
   "name": "python3"
  },
  "language_info": {
   "codemirror_mode": {
    "name": "ipython",
    "version": 3
   },
   "file_extension": ".py",
   "mimetype": "text/x-python",
   "name": "python",
   "nbconvert_exporter": "python",
   "pygments_lexer": "ipython3",
   "version": "3.6.7"
  }
 },
 "nbformat": 4,
 "nbformat_minor": 2
}
